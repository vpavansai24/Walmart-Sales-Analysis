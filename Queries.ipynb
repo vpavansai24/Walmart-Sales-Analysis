{
 "cells": [
  {
   "cell_type": "markdown",
   "id": "dd3c8517",
   "metadata": {},
   "source": [
    "# Connect to the Database"
   ]
  },
  {
   "cell_type": "code",
   "execution_count": 1,
   "id": "77b6ecf2",
   "metadata": {},
   "outputs": [],
   "source": [
    "import sqlite3"
   ]
  },
  {
   "cell_type": "code",
   "execution_count": 2,
   "id": "f42ae45c",
   "metadata": {},
   "outputs": [],
   "source": [
    "# Connect to the database \n",
    "conn = sqlite3.connect(\"Final_Project_ADT.db\")\n",
    "\n",
    "#Create a cursor object \n",
    "cursor = conn.cursor()"
   ]
  },
  {
   "cell_type": "markdown",
   "id": "b8685602",
   "metadata": {},
   "source": [
    "# CREATE Queries"
   ]
  },
  {
   "cell_type": "code",
   "execution_count": 20,
   "id": "49a3dab7",
   "metadata": {},
   "outputs": [],
   "source": [
    "store_details_data = (46, 'Walmart 1', 'John Doe', 'Blommington')\n",
    "store_sales_data = (46, '2023-01-01', 50000.00)\n",
    "store_conditions_data = (46, '2023-01-01', 25.5, 2.75, 100.00, 50.00, 75.00, 30.00, 20.00, 150.5, 8.5, 'No')\n"
   ]
  },
  {
   "cell_type": "code",
   "execution_count": 26,
   "id": "f5542c15",
   "metadata": {},
   "outputs": [],
   "source": [
    "# Insert data into store_details\n",
    "cursor.execute(\"INSERT INTO store_details (StoreNumber, StoreName, Manager, Location) VALUES (?, ?, ?, ?)\", store_details_data)\n",
    "conn.commit()\n"
   ]
  },
  {
   "cell_type": "code",
   "execution_count": 21,
   "id": "22aef26e",
   "metadata": {},
   "outputs": [],
   "source": [
    "# Insert data into store_sales\n",
    "cursor.execute(\"INSERT INTO store_sales (Store, Date, Weekly_Sales) VALUES (?, ?, ?)\", store_sales_data)\n",
    "conn.commit()"
   ]
  },
  {
   "cell_type": "code",
   "execution_count": null,
   "id": "17b7e7be",
   "metadata": {},
   "outputs": [],
   "source": [
    "# Insert data into store_conditions\n",
    "cursor.execute(\"INSERT INTO store_conditions (Store, Date, Temperature, Fuel_Price, MarkDown1, MarkDown2, MarkDown3, MarkDown4, MarkDown5, CPI, Unemployment, IsHoliday) VALUES (?, ?, ?, ?, ?, ?, ?, ?, ?, ?, ?, ?)\", store_conditions_data)\n",
    "conn.commit()\n"
   ]
  },
  {
   "cell_type": "markdown",
   "id": "b11922ad",
   "metadata": {},
   "source": [
    "# READ Queries"
   ]
  },
  {
   "cell_type": "code",
   "execution_count": 5,
   "id": "ba9dcd1a",
   "metadata": {},
   "outputs": [],
   "source": [
    "store_number = 1\n",
    "limit = 10\n",
    "date = '2010-07-30'"
   ]
  },
  {
   "cell_type": "code",
   "execution_count": 29,
   "id": "e6e01d54",
   "metadata": {},
   "outputs": [
    {
     "name": "stdout",
     "output_type": "stream",
     "text": [
      "[(1, 'Walmart Store 1', 'Robert Davis', 'San Diego'), (2, 'Walmart Store 2', 'Emily Johnson', 'Los Angeles'), (3, 'Walmart Store 3', 'Emily Smith', 'Chicago'), (4, 'Walmart Store 4', 'Emily Doe', 'New York'), (5, 'Walmart Store 5', 'Emily Johnson', 'Philadelphia'), (6, 'Walmart Store 6', 'Jane Smith', 'San Francisco'), (7, 'Walmart Store 7', 'John Johnson', 'New York'), (8, 'Walmart Store 8', 'Robert Johnson', 'Los Angeles'), (9, 'Walmart Store 9', 'Jane Brown', 'San Francisco'), (10, 'Walmart Store 10', 'Robert Doe', 'New York'), (11, 'Walmart Store 11', 'Jane Brown', 'Philadelphia'), (12, 'Walmart Store 12', 'Robert Doe', 'Bloomington'), (13, 'Walmart Store 13', 'Jane Brown', 'San Francisco'), (14, 'Walmart Store 14', 'John Davis', 'Houston'), (15, 'Walmart Store 15', 'Emily Brown', 'Chicago'), (16, 'Walmart Store 16', 'Robert Smith', 'Bloomington'), (17, 'Walmart Store 17', 'Robert Johnson', 'Dallas'), (18, 'Walmart Store 18', 'Robert Davis', 'New York'), (19, 'Walmart Store 19', 'John Johnson', 'Chicago'), (20, 'Walmart Store 20', 'Emily Davis', 'San Diego'), (21, 'Walmart Store 21', 'Michael Smith', 'Chicago'), (22, 'Walmart Store 22', 'Michael Johnson', 'Los Angeles'), (23, 'Walmart Store 23', 'Michael Doe', 'Los Angeles'), (24, 'Walmart Store 24', 'Robert Doe', 'San Francisco'), (25, 'Walmart Store 25', 'John Brown', 'Bloomington'), (26, 'Walmart Store 26', 'Robert Smith', 'Houston'), (27, 'Walmart Store 27', 'Emily Smith', 'Philadelphia'), (28, 'Walmart Store 28', 'Robert Johnson', 'Philadelphia'), (29, 'Walmart Store 29', 'Robert Davis', 'New York'), (30, 'Walmart Store 30', 'Emily Doe', 'Philadelphia'), (31, 'Walmart Store 31', 'Jane Davis', 'San Antonio'), (32, 'Walmart Store 32', 'John Davis', 'San Antonio'), (33, 'Walmart Store 33', 'Emily Doe', 'San Antonio'), (34, 'Walmart Store 34', 'Emily Doe', 'Houston'), (35, 'Walmart Store 35', 'Emily Brown', 'New York'), (36, 'Walmart Store 36', 'John Davis', 'New York'), (37, 'Walmart Store 37', 'John Smith', 'New York'), (38, 'Walmart Store 38', 'Jane Davis', 'Chicago'), (39, 'Walmart Store 39', 'Robert Doe', 'Philadelphia'), (40, 'Walmart Store 40', 'Michael Doe', 'San Francisco'), (41, 'Walmart Store 41', 'Emily Brown', 'Houston'), (42, 'Walmart Store 42', 'Robert Davis', 'San Diego'), (43, 'Walmart Store 43', 'Michael Doe', 'Philadelphia'), (44, 'Walmart Store 44', 'Jane Johnson', 'Los Angeles'), (45, 'Walmart Store 45', 'John Doe', 'Chicago')]\n"
     ]
    }
   ],
   "source": [
    "# Get all Store Details\n",
    "cursor.execute(\"SELECT * FROM store_details\")\n",
    "result = cursor.fetchall()\n",
    "print(result)"
   ]
  },
  {
   "cell_type": "code",
   "execution_count": 31,
   "id": "fbfeced8",
   "metadata": {},
   "outputs": [
    {
     "name": "stdout",
     "output_type": "stream",
     "text": [
      "[(1, 'Walmart Store 1', 'Robert Davis', 'San Diego')]\n"
     ]
    }
   ],
   "source": [
    "# Get Store Details of a specific store\n",
    "cursor.execute(\"SELECT * FROM store_details WHERE StoreNumber = ?\", (store_number,))\n",
    "result = cursor.fetchall()\n",
    "print(result)"
   ]
  },
  {
   "cell_type": "code",
   "execution_count": 16,
   "id": "452359f0",
   "metadata": {},
   "outputs": [
    {
     "name": "stdout",
     "output_type": "stream",
     "text": [
      "[(1, '2010-02-05', 1643690.9), (1, '2010-02-12', 1641957.44), (1, '2010-02-19', 1611968.17), (1, '2010-02-26', 1409727.59), (1, '2010-03-05', 1554806.68), (1, '2010-03-12', 1439541.59), (1, '2010-03-19', 1472515.79), (1, '2010-03-26', 1404429.92), (1, '2010-04-02', 1594968.28), (1, '2010-04-09', 1545418.53)]\n"
     ]
    }
   ],
   "source": [
    "# Get all sales for a specific store\n",
    "cursor.execute(\"SELECT * FROM store_sales WHERE Store = ? LIMIT ?\", (store_number,limit))\n",
    "result = cursor.fetchall()\n",
    "print(result)"
   ]
  },
  {
   "cell_type": "code",
   "execution_count": 14,
   "id": "1b79a002",
   "metadata": {},
   "outputs": [
    {
     "name": "stdout",
     "output_type": "stream",
     "text": [
      "[(1, '2010-07-30', 1371986.6)]\n"
     ]
    }
   ],
   "source": [
    "# Get sales for a specific store on a specific date\n",
    "cursor.execute(\"SELECT * FROM store_sales WHERE Store = ? AND Date = ?\", (store_number, date))\n",
    "result = cursor.fetchall()\n",
    "print(result)\n"
   ]
  },
  {
   "cell_type": "code",
   "execution_count": 15,
   "id": "8d9a0587",
   "metadata": {},
   "outputs": [
    {
     "name": "stdout",
     "output_type": "stream",
     "text": [
      "[(1, '2010-07-30', 81.84, 2.64, 'NA', 'NA', 'NA', 'NA', 'NA', 211.3699032, 7.787, 'FALSE')]\n"
     ]
    }
   ],
   "source": [
    "# Get store conditions for a specific store on a specific date\n",
    "cursor.execute(\"SELECT * FROM store_conditions WHERE Store = ? AND Date = ?\", (store_number, date))\n",
    "result = cursor.fetchall()\n",
    "print(result)"
   ]
  },
  {
   "cell_type": "markdown",
   "id": "109d182f",
   "metadata": {},
   "source": [
    "# Update Queries"
   ]
  },
  {
   "cell_type": "code",
   "execution_count": null,
   "id": "2fcda259",
   "metadata": {},
   "outputs": [],
   "source": [
    "# Update store details\n",
    "new_manager = 'Jane Smith'\n",
    "cursor.execute(\"UPDATE store_details SET Manager = ? WHERE StoreNumber = ?\", (new_manager, store_number))\n",
    "conn.commit()\n"
   ]
  },
  {
   "cell_type": "code",
   "execution_count": null,
   "id": "69e17b9f",
   "metadata": {},
   "outputs": [],
   "source": [
    "# Update weekly sales for a specific date and store\n",
    "new_weekly_sales = 55000.00\n",
    "cursor.execute(\"UPDATE store_sales SET Weekly_Sales = ? WHERE Store = ? AND Date = ?\", (new_weekly_sales, store_number, date))\n",
    "conn.commit()\n"
   ]
  },
  {
   "cell_type": "markdown",
   "id": "e8816847",
   "metadata": {},
   "source": [
    "# Delete Queries"
   ]
  },
  {
   "cell_type": "code",
   "execution_count": null,
   "id": "f01f2183",
   "metadata": {},
   "outputs": [],
   "source": [
    "# Delete a specific store's details\n",
    "cursor.execute(\"DELETE FROM store_details WHERE StoreNumber = ?\", (store_number,))\n",
    "conn.commit()"
   ]
  },
  {
   "cell_type": "code",
   "execution_count": null,
   "id": "e6249fa9",
   "metadata": {},
   "outputs": [],
   "source": [
    "# Delete sales records for a specific date and store\n",
    "cursor.execute(\"DELETE FROM store_sales WHERE Store = ? AND Date = ?\", (store_number, date))\n",
    "conn.commit()"
   ]
  },
  {
   "cell_type": "markdown",
   "id": "7b77417f",
   "metadata": {},
   "source": [
    "# Retrieve Total Sales for Each Store"
   ]
  },
  {
   "cell_type": "code",
   "execution_count": 32,
   "id": "0a4977ad",
   "metadata": {
    "scrolled": true
   },
   "outputs": [
    {
     "name": "stdout",
     "output_type": "stream",
     "text": [
      "(1, 'Walmart Store 1', 'Robert Davis', 'San Diego', 222402808.85000005)\n",
      "(2, 'Walmart Store 2', 'Emily Johnson', 'Los Angeles', 275382440.9800001)\n",
      "(3, 'Walmart Store 3', 'Emily Smith', 'Chicago', 57586735.07)\n",
      "(4, 'Walmart Store 4', 'Emily Doe', 'New York', 299543953.38)\n",
      "(5, 'Walmart Store 5', 'Emily Johnson', 'Philadelphia', 45475688.9)\n",
      "(6, 'Walmart Store 6', 'Jane Smith', 'San Francisco', 223756130.64000002)\n",
      "(7, 'Walmart Store 7', 'John Johnson', 'New York', 81598275.14000002)\n",
      "(8, 'Walmart Store 8', 'Robert Johnson', 'Los Angeles', 129951181.13)\n",
      "(9, 'Walmart Store 9', 'Jane Brown', 'San Francisco', 77789218.99)\n",
      "(10, 'Walmart Store 10', 'Robert Doe', 'New York', 271617713.8899999)\n",
      "(11, 'Walmart Store 11', 'Jane Brown', 'Philadelphia', 193962786.79999992)\n",
      "(12, 'Walmart Store 12', 'Robert Doe', 'Bloomington', 144287230.14999998)\n",
      "(13, 'Walmart Store 13', 'Jane Brown', 'San Francisco', 286517703.80000013)\n",
      "(14, 'Walmart Store 14', 'John Davis', 'Houston', 288999911.34000003)\n",
      "(15, 'Walmart Store 15', 'Emily Brown', 'Chicago', 89133683.91999997)\n",
      "(16, 'Walmart Store 16', 'Robert Smith', 'Bloomington', 74252425.40000002)\n",
      "(17, 'Walmart Store 17', 'Robert Johnson', 'Dallas', 127782138.83000007)\n",
      "(18, 'Walmart Store 18', 'Robert Davis', 'New York', 155114734.21)\n",
      "(19, 'Walmart Store 19', 'John Johnson', 'Chicago', 206634862.1)\n",
      "(20, 'Walmart Store 20', 'Emily Davis', 'San Diego', 301397792.46000004)\n",
      "(21, 'Walmart Store 21', 'Michael Smith', 'Chicago', 108117878.92)\n",
      "(22, 'Walmart Store 22', 'Michael Johnson', 'Los Angeles', 147075648.57000002)\n",
      "(23, 'Walmart Store 23', 'Michael Doe', 'Los Angeles', 198750617.8499999)\n",
      "(24, 'Walmart Store 24', 'Robert Doe', 'San Francisco', 194016021.27999994)\n",
      "(25, 'Walmart Store 25', 'John Brown', 'Bloomington', 101061179.16999999)\n",
      "(26, 'Walmart Store 26', 'Robert Smith', 'Houston', 143416393.79000008)\n",
      "(27, 'Walmart Store 27', 'Emily Smith', 'Philadelphia', 253855916.88000003)\n",
      "(28, 'Walmart Store 28', 'Robert Johnson', 'Philadelphia', 189263680.57999986)\n",
      "(29, 'Walmart Store 29', 'Robert Davis', 'New York', 77141554.30999997)\n",
      "(30, 'Walmart Store 30', 'Emily Doe', 'Philadelphia', 62716885.12000001)\n",
      "(31, 'Walmart Store 31', 'Jane Davis', 'San Antonio', 199613905.49999997)\n",
      "(32, 'Walmart Store 32', 'John Davis', 'San Antonio', 166819246.16000003)\n",
      "(33, 'Walmart Store 33', 'Emily Doe', 'San Antonio', 37160221.960000016)\n",
      "(34, 'Walmart Store 34', 'Emily Doe', 'Houston', 138249763.00000003)\n",
      "(35, 'Walmart Store 35', 'Emily Brown', 'New York', 131520672.07999992)\n",
      "(36, 'Walmart Store 36', 'John Davis', 'New York', 53412214.969999984)\n",
      "(37, 'Walmart Store 37', 'John Smith', 'New York', 74202740.32000001)\n",
      "(38, 'Walmart Store 38', 'Jane Davis', 'Chicago', 55159626.420000024)\n",
      "(39, 'Walmart Store 39', 'Robert Doe', 'Philadelphia', 207445542.46999997)\n",
      "(40, 'Walmart Store 40', 'Michael Doe', 'San Francisco', 137870309.79000008)\n",
      "(41, 'Walmart Store 41', 'Emily Brown', 'Houston', 181341934.88999993)\n",
      "(42, 'Walmart Store 42', 'Robert Davis', 'San Diego', 79565752.42999998)\n",
      "(43, 'Walmart Store 43', 'Michael Doe', 'Philadelphia', 90565435.41000003)\n",
      "(44, 'Walmart Store 44', 'Jane Johnson', 'Los Angeles', 43293087.83999999)\n",
      "(45, 'Walmart Store 45', 'John Doe', 'Chicago', 112395341.42000003)\n"
     ]
    }
   ],
   "source": [
    "cursor.execute(\"\"\"\n",
    "    SELECT d.StoreNumber, d.StoreName, d.Manager, d.Location, SUM(s.Weekly_Sales) AS TotalSales\n",
    "    FROM store_details d\n",
    "    JOIN store_sales s ON d.StoreNumber = s.Store\n",
    "    GROUP BY d.StoreNumber, d.StoreName, d.Manager, d.Location\n",
    "\"\"\")\n",
    "result = cursor.fetchall()\n",
    "for row in result:\n",
    "    print(row)"
   ]
  },
  {
   "cell_type": "markdown",
   "id": "aba722ab",
   "metadata": {},
   "source": [
    "# Retrieve Average Sales and Conditions for Each Store"
   ]
  },
  {
   "cell_type": "code",
   "execution_count": 33,
   "id": "efc97f43",
   "metadata": {
    "scrolled": true
   },
   "outputs": [
    {
     "name": "stdout",
     "output_type": "stream",
     "text": [
      "(1, 'Walmart Store 1', 'Robert Davis', 'San Diego', 1555264.3975524479, 68.30678321678319, 3.2196993006993)\n",
      "(2, 'Walmart Store 2', 'Emily Johnson', 'Los Angeles', 1925751.3355244761, 68.21636363636361, 3.2196993006993)\n",
      "(3, 'Walmart Store 3', 'Emily Smith', 'Chicago', 402704.44104895106, 71.43419580419578, 3.2196993006993)\n",
      "(4, 'Walmart Store 4', 'Emily Doe', 'New York', 2094712.9606993007, 62.25335664335665, 3.216972027972028)\n",
      "(5, 'Walmart Store 5', 'Emily Johnson', 'Philadelphia', 318011.8104895105, 69.41013986013986, 3.2196993006993)\n",
      "(6, 'Walmart Store 6', 'Jane Smith', 'San Francisco', 1564728.1862937063, 69.70000000000003, 3.2196993006993)\n",
      "(7, 'Walmart Store 7', 'John Johnson', 'New York', 570617.3086713288, 39.72027972027973, 3.2415594405594406)\n",
      "(8, 'Walmart Store 8', 'Robert Johnson', 'Los Angeles', 908749.5183916084, 62.51398601398601, 3.2196993006993)\n",
      "(9, 'Walmart Store 9', 'Jane Brown', 'San Francisco', 543980.5523776223, 67.77517482517479, 3.2196993006993)\n",
      "(10, 'Walmart Store 10', 'Robert Doe', 'New York', 1899424.572657342, 72.24118881118882, 3.575923076923078)\n",
      "(11, 'Walmart Store 11', 'Jane Brown', 'Philadelphia', 1356383.1244755238, 72.48076923076923, 3.2196993006993)\n",
      "(12, 'Walmart Store 12', 'Robert Doe', 'Bloomington', 1009001.6094405593, 70.26279720279722, 3.6064195804195815)\n",
      "(13, 'Walmart Store 13', 'Jane Brown', 'San Francisco', 2003620.306293707, 53.69713286713285, 3.2861468531468545)\n",
      "(14, 'Walmart Store 14', 'John Davis', 'Houston', 2020978.400979021, 57.79097902097905, 3.417608391608393)\n",
      "(15, 'Walmart Store 15', 'Emily Brown', 'Chicago', 623312.4749650348, 51.83384615384616, 3.5782937062937075)\n",
      "(16, 'Walmart Store 16', 'Robert Smith', 'Bloomington', 519247.7300699302, 45.0300699300699, 3.2415594405594406)\n",
      "(17, 'Walmart Store 17', 'Robert Johnson', 'Dallas', 893581.390419581, 46.38720279720279, 3.2861468531468545)\n",
      "(18, 'Walmart Store 18', 'Robert Davis', 'New York', 1084718.421048951, 53.37125874125874, 3.4417412587412577)\n",
      "(19, 'Walmart Store 19', 'John Johnson', 'Chicago', 1444999.0356643356, 52.29503496503495, 3.5782937062937075)\n",
      "(20, 'Walmart Store 20', 'Emily Davis', 'San Diego', 2107676.8703496507, 55.45139860139859, 3.417608391608393)\n",
      "(21, 'Walmart Store 21', 'Michael Smith', 'Chicago', 756069.0833566433, 68.84762237762239, 3.2196993006993)\n",
      "(22, 'Walmart Store 22', 'Michael Johnson', 'Los Angeles', 1028501.0389510491, 54.89713286713289, 3.4417412587412577)\n",
      "(23, 'Walmart Store 23', 'Michael Doe', 'Los Angeles', 1389864.4604895099, 48.805104895104904, 3.4417412587412577)\n",
      "(24, 'Walmart Store 24', 'Robert Doe', 'San Francisco', 1356755.393566433, 54.03000000000001, 3.5782937062937075)\n",
      "(25, 'Walmart Store 25', 'John Brown', 'Bloomington', 706721.5326573426, 52.13839160839159, 3.417608391608393)\n",
      "(26, 'Walmart Store 26', 'Robert Smith', 'Houston', 1002911.8446853153, 43.658251748251736, 3.4417412587412577)\n",
      "(27, 'Walmart Store 27', 'Emily Smith', 'Philadelphia', 1775216.201958042, 57.311118881118894, 3.5782937062937075)\n",
      "(28, 'Walmart Store 28', 'Robert Johnson', 'Philadelphia', 1323522.2418181808, 70.26279720279722, 3.6064195804195815)\n",
      "(29, 'Walmart Store 29', 'Robert Davis', 'New York', 539451.4287412586, 54.89713286713289, 3.4417412587412577)\n",
      "(30, 'Walmart Store 30', 'Emily Doe', 'Philadelphia', 438579.6162237763, 68.84762237762239, 3.2196993006993)\n",
      "(31, 'Walmart Store 31', 'Jane Davis', 'San Antonio', 1395901.4370629368, 68.84762237762239, 3.2196993006993)\n",
      "(32, 'Walmart Store 32', 'John Davis', 'San Antonio', 1166568.1549650352, 52.74755244755246, 3.2415594405594406)\n",
      "(33, 'Walmart Store 33', 'Emily Doe', 'San Antonio', 259861.69202797214, 76.72818181818181, 3.575923076923078)\n",
      "(34, 'Walmart Store 34', 'Emily Doe', 'Houston', 966781.5594405596, 58.49587412587414, 3.216972027972028)\n",
      "(35, 'Walmart Store 35', 'Emily Brown', 'New York', 919724.979580419, 57.311118881118894, 3.417608391608393)\n",
      "(36, 'Walmart Store 36', 'John Davis', 'New York', 373511.99279720266, 71.16034965034966, 3.2042027972027975)\n",
      "(37, 'Walmart Store 37', 'John Smith', 'New York', 518900.281958042, 71.16034965034966, 3.2196993006993)\n",
      "(38, 'Walmart Store 38', 'Jane Davis', 'Chicago', 385731.65328671347, 70.26279720279722, 3.6064195804195815)\n",
      "(39, 'Walmart Store 39', 'Robert Doe', 'Philadelphia', 1450668.129160839, 70.59734265734261, 3.2196993006993)\n",
      "(40, 'Walmart Store 40', 'Michael Doe', 'San Francisco', 964128.0404895111, 47.67454545454545, 3.4417412587412577)\n",
      "(41, 'Walmart Store 41', 'Emily Brown', 'Houston', 1268125.4188111883, 48.41034965034969, 3.2415594405594406)\n",
      "(42, 'Walmart Store 42', 'Robert Davis', 'San Diego', 556403.8631468529, 72.24118881118882, 3.575923076923078)\n",
      "(43, 'Walmart Store 43', 'Michael Doe', 'Philadelphia', 633324.7231468534, 68.87769230769234, 3.2196993006993)\n",
      "(44, 'Walmart Store 44', 'Jane Johnson', 'Los Angeles', 302748.86601398594, 53.69713286713285, 3.2861468531468545)\n",
      "(45, 'Walmart Store 45', 'John Doe', 'Chicago', 785981.4085314687, 57.79097902097905, 3.417608391608393)\n"
     ]
    }
   ],
   "source": [
    "# Join store_sales, store_details, and store_conditions to get average sales and conditions for each store\n",
    "cursor.execute(\"\"\"\n",
    "    SELECT d.StoreNumber, d.StoreName, d.Manager, d.Location, AVG(s.Weekly_Sales) AS AvgWeeklySales,\n",
    "           AVG(c.Temperature) AS AvgTemperature, AVG(c.Fuel_Price) AS AvgFuelPrice\n",
    "    FROM store_details d\n",
    "    JOIN store_sales s ON d.StoreNumber = s.Store\n",
    "    JOIN store_conditions c ON d.StoreNumber = c.Store AND s.Date = c.Date\n",
    "    GROUP BY d.StoreNumber, d.StoreName, d.Manager, d.Location\n",
    "\"\"\")\n",
    "result = cursor.fetchall()\n",
    "for row in result:\n",
    "    print(row)"
   ]
  },
  {
   "cell_type": "markdown",
   "id": "4af77a8f",
   "metadata": {},
   "source": [
    "# Retrieve Stores with High Sales During Holidays"
   ]
  },
  {
   "cell_type": "code",
   "execution_count": 41,
   "id": "389cfb2a",
   "metadata": {},
   "outputs": [
    {
     "name": "stdout",
     "output_type": "stream",
     "text": [
      "(1, 'Walmart Store 1', 'Robert Davis', 'San Diego')\n",
      "(2, 'Walmart Store 2', 'Emily Johnson', 'Los Angeles')\n",
      "(4, 'Walmart Store 4', 'Emily Doe', 'New York')\n",
      "(6, 'Walmart Store 6', 'Jane Smith', 'San Francisco')\n",
      "(8, 'Walmart Store 8', 'Robert Johnson', 'Los Angeles')\n",
      "(10, 'Walmart Store 10', 'Robert Doe', 'New York')\n",
      "(11, 'Walmart Store 11', 'Jane Brown', 'Philadelphia')\n",
      "(12, 'Walmart Store 12', 'Robert Doe', 'Bloomington')\n",
      "(13, 'Walmart Store 13', 'Jane Brown', 'San Francisco')\n",
      "(14, 'Walmart Store 14', 'John Davis', 'Houston')\n",
      "(15, 'Walmart Store 15', 'Emily Brown', 'Chicago')\n",
      "(17, 'Walmart Store 17', 'Robert Johnson', 'Dallas')\n",
      "(18, 'Walmart Store 18', 'Robert Davis', 'New York')\n",
      "(19, 'Walmart Store 19', 'John Johnson', 'Chicago')\n",
      "(20, 'Walmart Store 20', 'Emily Davis', 'San Diego')\n",
      "(21, 'Walmart Store 21', 'Michael Smith', 'Chicago')\n",
      "(22, 'Walmart Store 22', 'Michael Johnson', 'Los Angeles')\n",
      "(23, 'Walmart Store 23', 'Michael Doe', 'Los Angeles')\n",
      "(24, 'Walmart Store 24', 'Robert Doe', 'San Francisco')\n",
      "(25, 'Walmart Store 25', 'John Brown', 'Bloomington')\n",
      "(26, 'Walmart Store 26', 'Robert Smith', 'Houston')\n",
      "(27, 'Walmart Store 27', 'Emily Smith', 'Philadelphia')\n",
      "(28, 'Walmart Store 28', 'Robert Johnson', 'Philadelphia')\n",
      "(31, 'Walmart Store 31', 'Jane Davis', 'San Antonio')\n",
      "(32, 'Walmart Store 32', 'John Davis', 'San Antonio')\n",
      "(34, 'Walmart Store 34', 'Emily Doe', 'Houston')\n",
      "(35, 'Walmart Store 35', 'Emily Brown', 'New York')\n",
      "(39, 'Walmart Store 39', 'Robert Doe', 'Philadelphia')\n",
      "(40, 'Walmart Store 40', 'Michael Doe', 'San Francisco')\n",
      "(41, 'Walmart Store 41', 'Emily Brown', 'Houston')\n",
      "(45, 'Walmart Store 45', 'John Doe', 'Chicago')\n"
     ]
    }
   ],
   "source": [
    "cursor.execute(\"\"\"\n",
    "    SELECT DISTINCT d.StoreNumber, d.StoreName, d.Manager, d.Location\n",
    "    FROM store_sales s\n",
    "    JOIN store_conditions c ON s.Store = c.Store AND s.Date = c.Date\n",
    "    JOIN store_details d ON s.Store = d.StoreNumber\n",
    "    WHERE c.IsHoliday = 'TRUE' AND s.Weekly_Sales > (SELECT AVG(Weekly_Sales) FROM store_sales)\n",
    "\"\"\")\n",
    "result = cursor.fetchall()\n",
    "for row in result:\n",
    "    print(row)"
   ]
  },
  {
   "cell_type": "code",
   "execution_count": null,
   "id": "d4284e61",
   "metadata": {},
   "outputs": [],
   "source": []
  }
 ],
 "metadata": {
  "kernelspec": {
   "display_name": "Python 3 (ipykernel)",
   "language": "python",
   "name": "python3"
  },
  "language_info": {
   "codemirror_mode": {
    "name": "ipython",
    "version": 3
   },
   "file_extension": ".py",
   "mimetype": "text/x-python",
   "name": "python",
   "nbconvert_exporter": "python",
   "pygments_lexer": "ipython3",
   "version": "3.10.6"
  },
  "toc": {
   "base_numbering": 1,
   "nav_menu": {},
   "number_sections": true,
   "sideBar": true,
   "skip_h1_title": false,
   "title_cell": "Table of Contents",
   "title_sidebar": "Contents",
   "toc_cell": false,
   "toc_position": {},
   "toc_section_display": true,
   "toc_window_display": false
  }
 },
 "nbformat": 4,
 "nbformat_minor": 5
}
